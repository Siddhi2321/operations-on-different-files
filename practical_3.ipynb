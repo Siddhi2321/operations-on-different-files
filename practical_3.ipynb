{
  "nbformat": 4,
  "nbformat_minor": 0,
  "metadata": {
    "colab": {
      "provenance": [],
      "authorship_tag": "ABX9TyMnPSTeMxZCDQDodFlckHq2"
    },
    "kernelspec": {
      "name": "python3",
      "display_name": "Python 3"
    },
    "language_info": {
      "name": "python"
    }
  },
  "cells": [
    {
      "cell_type": "code",
      "execution_count": null,
      "metadata": {
        "colab": {
          "base_uri": "https://localhost:8080/"
        },
        "id": "rzfGfQkUhcD2",
        "outputId": "54b43d64-b6ff-49a1-a046-f258dbccd499"
      },
      "outputs": [
        {
          "output_type": "stream",
          "name": "stdout",
          "text": [
            "Mounted at /content/drive\n"
          ]
        }
      ],
      "source": [
        "from google.colab import drive\n",
        "drive.mount(\"/content/drive\")"
      ]
    },
    {
      "cell_type": "code",
      "source": [
        "\n",
        "import csv\n",
        "def top_5_emp(d3):\n",
        "    d3.sort(key = lambda x: int(x[5]),reverse=True)\n",
        "    print(\"Sorted Data:\",d3)\n",
        "\n",
        "    print(\"\\n Top1 Employee\",d3[0][1])\n",
        "    print(\"Top2 Empolyee\",d3[1][1])\n",
        "    print(\"Top1 Empolyee\",d3[2][1])\n",
        "    print(\"Top2 Empolyee\",d3[3][1])\n",
        "    print(\"Top2 Empolyee\",d3[4][1])\n",
        "\n",
        "\n",
        "f1 = open(\"drive/My Drive/Colab Notebooks/emp718.csv\",\"r\")\n",
        "f2 = open(\"drive/My Drive/Colab Notebooks/emp_sal718.csv\",\"r\")\n",
        "f3 = open(\"drive/My Drive/Colab Notebooks/emp_718.csv\",\"w\")\n",
        "\n",
        "d1=list(csv.reader(f1,delimiter=','))\n",
        "d2=list(csv.reader(f2,delimiter=','))\n",
        "\n",
        "print(\"\\n\\n File1 contents:\",d1)\n",
        "print(\"\\n\\n File2 contents:\",d2)\n",
        "d3 = []\n",
        "for i in range(len(d1)):\n",
        "    d3.append(d1[i] + d2[i])\n",
        "\n",
        "print(d3)\n",
        "cw = csv.writer(f3)\n",
        "cw.writerows(d3)\n",
        "\n",
        "top_5_emp(d3)\n",
        "\n",
        "\n",
        "f1.close()\n",
        "f2.close()\n",
        "f3.close()\n"
      ],
      "metadata": {
        "colab": {
          "base_uri": "https://localhost:8080/"
        },
        "id": "xbv4iGLwhip6",
        "outputId": "d7998a48-7f92-4863-98ef-4e399fde01fb"
      },
      "execution_count": null,
      "outputs": [
        {
          "output_type": "stream",
          "name": "stdout",
          "text": [
            "\n",
            "\n",
            " File1 contents: [['1', 'sanvi', 'pune'], ['2', 'mrunmayee', 'pune'], ['3', 'jayesh', 'nashik'], ['4', 'gouri', 'nashik'], ['5', 'mahesh', 'pune']]\n",
            "\n",
            "\n",
            " File2 contents: [['1', 'manager', '100000'], ['2', 'Sr. Manager', '150000'], ['3', 'Manager', '90500'], ['4', 'Sr. Manager', '100500'], ['5', 'Supervisor', '85000']]\n",
            "[['1', 'sanvi', 'pune', '1', 'manager', '100000'], ['2', 'mrunmayee', 'pune', '2', 'Sr. Manager', '150000'], ['3', 'jayesh', 'nashik', '3', 'Manager', '90500'], ['4', 'gouri', 'nashik', '4', 'Sr. Manager', '100500'], ['5', 'mahesh', 'pune', '5', 'Supervisor', '85000']]\n",
            "Sorted Data: [['2', 'mrunmayee', 'pune', '2', 'Sr. Manager', '150000'], ['4', 'gouri', 'nashik', '4', 'Sr. Manager', '100500'], ['1', 'sanvi', 'pune', '1', 'manager', '100000'], ['3', 'jayesh', 'nashik', '3', 'Manager', '90500'], ['5', 'mahesh', 'pune', '5', 'Supervisor', '85000']]\n",
            "\n",
            " Top1 Employee mrunmayee\n",
            "Top2 Empolyee gouri\n",
            "Top1 Empolyee sanvi\n",
            "Top2 Empolyee jayesh\n",
            "Top2 Empolyee mahesh\n"
          ]
        }
      ]
    }
  ]
}